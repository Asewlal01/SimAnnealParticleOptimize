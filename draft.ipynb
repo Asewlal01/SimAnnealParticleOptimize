{
 "cells": [
  {
   "cell_type": "code",
   "execution_count": 1,
   "metadata": {},
   "outputs": [],
   "source": [
    "import numpy as np\n",
    "from SimulatedAnnealing import optimal_configuration, simulated_annealing, simulated_annealing_immediately, simulated_annealing_together\n",
    "from Analysis import show_points, test_configuration"
   ]
  },
  {
   "cell_type": "markdown",
   "metadata": {},
   "source": [
    "#### Constant parameters"
   ]
  },
  {
   "cell_type": "code",
   "execution_count": 4,
   "metadata": {},
   "outputs": [],
   "source": [
    "R = 1           # Radius of the circle\n",
    "T_max = 100.    # Initial temperature\n",
    "T_min = 0.001   # Final temperature\n",
    "alpha = 0.9     # Temperature decay rate\n",
    "iter_num = 100  # Number of iterations at each temperature"
   ]
  },
  {
   "cell_type": "markdown",
   "metadata": {},
   "source": [
    "#### Get optimal configurations for different N"
   ]
  },
  {
   "cell_type": "code",
   "execution_count": 3,
   "metadata": {},
   "outputs": [
    {
     "ename": "KeyboardInterrupt",
     "evalue": "",
     "output_type": "error",
     "traceback": [
      "\u001b[0;31m---------------------------------------------------------------------------\u001b[0m",
      "\u001b[0;31mKeyboardInterrupt\u001b[0m                         Traceback (most recent call last)",
      "Cell \u001b[0;32mIn[3], line 5\u001b[0m\n\u001b[1;32m      2\u001b[0m run_num \u001b[38;5;241m=\u001b[39m \u001b[38;5;241m20\u001b[39m    \u001b[38;5;66;03m# Number of runs\u001b[39;00m\n\u001b[1;32m      4\u001b[0m \u001b[38;5;66;03m# Run simulated annealing several times to find the best configuration\u001b[39;00m\n\u001b[0;32m----> 5\u001b[0m points, energy \u001b[38;5;241m=\u001b[39m \u001b[43moptimal_configuration\u001b[49m\u001b[43m(\u001b[49m\u001b[43mN\u001b[49m\u001b[43m,\u001b[49m\u001b[43m \u001b[49m\u001b[43mR\u001b[49m\u001b[43m,\u001b[49m\u001b[43m \u001b[49m\u001b[43mT_max\u001b[49m\u001b[43m,\u001b[49m\u001b[43m \u001b[49m\u001b[43mT_min\u001b[49m\u001b[43m,\u001b[49m\u001b[43m \u001b[49m\u001b[43malpha\u001b[49m\u001b[43m,\u001b[49m\u001b[43m \u001b[49m\u001b[43miter_num\u001b[49m\u001b[43m,\u001b[49m\u001b[43m \u001b[49m\u001b[43mrun_num\u001b[49m\u001b[43m)\u001b[49m\n\u001b[1;32m      6\u001b[0m \u001b[38;5;28mprint\u001b[39m(\u001b[38;5;124mf\u001b[39m\u001b[38;5;124m'\u001b[39m\u001b[38;5;124mEnergy = \u001b[39m\u001b[38;5;132;01m{\u001b[39;00menergy\u001b[38;5;132;01m}\u001b[39;00m\u001b[38;5;124m'\u001b[39m)\n",
      "File \u001b[0;32m~/zzj/Master/Courses/StoSim/StoSim3/SimulatedAnnealing.py:262\u001b[0m, in \u001b[0;36moptimal_configuration\u001b[0;34m(N, R, Temp_max, Temp_min, alpha, iter_num, run_num, step_length)\u001b[0m\n\u001b[1;32m    260\u001b[0m \u001b[38;5;66;03m# Run simulated annealing several times\u001b[39;00m\n\u001b[1;32m    261\u001b[0m \u001b[38;5;28;01mfor\u001b[39;00m _ \u001b[38;5;129;01min\u001b[39;00m \u001b[38;5;28mrange\u001b[39m(run_num):\n\u001b[0;32m--> 262\u001b[0m     points, energy, _ \u001b[38;5;241m=\u001b[39m \u001b[43msimulated_annealing_immediately\u001b[49m\u001b[43m(\u001b[49m\u001b[43mN\u001b[49m\u001b[43m,\u001b[49m\u001b[43m \u001b[49m\u001b[43mR\u001b[49m\u001b[43m,\u001b[49m\u001b[43m \u001b[49m\u001b[43mTemp_max\u001b[49m\u001b[43m,\u001b[49m\u001b[43m \u001b[49m\u001b[43mTemp_min\u001b[49m\u001b[43m,\u001b[49m\u001b[43m \u001b[49m\u001b[43malpha\u001b[49m\u001b[43m,\u001b[49m\u001b[43m \u001b[49m\u001b[43miter_num\u001b[49m\u001b[43m,\u001b[49m\u001b[43m \u001b[49m\u001b[43mstep_length\u001b[49m\u001b[43m)\u001b[49m\n\u001b[1;32m    263\u001b[0m     energies\u001b[38;5;241m.\u001b[39mappend(energy)\n\u001b[1;32m    264\u001b[0m     points_history\u001b[38;5;241m.\u001b[39mappend(points)\n",
      "File \u001b[0;32m~/zzj/Master/Courses/StoSim/StoSim3/SimulatedAnnealing.py:161\u001b[0m, in \u001b[0;36msimulated_annealing_immediately\u001b[0;34m(N, R, Temp_max, Temp_min, alpha, iter_num, step_length)\u001b[0m\n\u001b[1;32m    158\u001b[0m     new_points[i] \u001b[38;5;241m*\u001b[39m\u001b[38;5;241m=\u001b[39m R \u001b[38;5;241m/\u001b[39m np\u001b[38;5;241m.\u001b[39mlinalg\u001b[38;5;241m.\u001b[39mnorm(new_points[i])\n\u001b[1;32m    160\u001b[0m \u001b[38;5;66;03m# Accept the new points if the new energy is lower or by a probability depending on the temperature\u001b[39;00m\n\u001b[0;32m--> 161\u001b[0m new_energy \u001b[38;5;241m=\u001b[39m \u001b[43mcalculate_energy\u001b[49m\u001b[43m(\u001b[49m\u001b[43mnew_points\u001b[49m\u001b[43m)\u001b[49m\n\u001b[1;32m    162\u001b[0m energy_change \u001b[38;5;241m=\u001b[39m new_energy \u001b[38;5;241m-\u001b[39m current_energy\n\u001b[1;32m    163\u001b[0m \u001b[38;5;28;01mif\u001b[39;00m energy_change \u001b[38;5;241m<\u001b[39m \u001b[38;5;241m0\u001b[39m \u001b[38;5;129;01mor\u001b[39;00m np\u001b[38;5;241m.\u001b[39mexp(\n\u001b[1;32m    164\u001b[0m         \u001b[38;5;241m-\u001b[39menergy_change \u001b[38;5;241m/\u001b[39m current_temp) \u001b[38;5;241m>\u001b[39m np\u001b[38;5;241m.\u001b[39mrandom\u001b[38;5;241m.\u001b[39mrand():\n",
      "File \u001b[0;32m~/zzj/Master/Courses/StoSim/StoSim3/SimulatedAnnealing.py:48\u001b[0m, in \u001b[0;36mcalculate_energy\u001b[0;34m(points, k)\u001b[0m\n\u001b[1;32m     45\u001b[0m \u001b[38;5;28;01mfor\u001b[39;00m i \u001b[38;5;129;01min\u001b[39;00m \u001b[38;5;28mrange\u001b[39m(\u001b[38;5;28mlen\u001b[39m(points)):\n\u001b[1;32m     46\u001b[0m     \u001b[38;5;66;03m# Calculate energy of point i with all other points\u001b[39;00m\n\u001b[1;32m     47\u001b[0m     \u001b[38;5;28;01mfor\u001b[39;00m j \u001b[38;5;129;01min\u001b[39;00m \u001b[38;5;28mrange\u001b[39m(i \u001b[38;5;241m+\u001b[39m \u001b[38;5;241m1\u001b[39m, \u001b[38;5;28mlen\u001b[39m(points)):\n\u001b[0;32m---> 48\u001b[0m         distance \u001b[38;5;241m=\u001b[39m \u001b[43mnp\u001b[49m\u001b[38;5;241;43m.\u001b[39;49m\u001b[43mlinalg\u001b[49m\u001b[38;5;241;43m.\u001b[39;49m\u001b[43mnorm\u001b[49m\u001b[43m(\u001b[49m\u001b[43mpoints\u001b[49m\u001b[43m[\u001b[49m\u001b[43mi\u001b[49m\u001b[43m]\u001b[49m\u001b[43m \u001b[49m\u001b[38;5;241;43m-\u001b[39;49m\u001b[43m \u001b[49m\u001b[43mpoints\u001b[49m\u001b[43m[\u001b[49m\u001b[43mj\u001b[49m\u001b[43m]\u001b[49m\u001b[43m)\u001b[49m\n\u001b[1;32m     49\u001b[0m         energy \u001b[38;5;241m+\u001b[39m\u001b[38;5;241m=\u001b[39m k \u001b[38;5;241m/\u001b[39m distance\n\u001b[1;32m     51\u001b[0m \u001b[38;5;28;01mreturn\u001b[39;00m energy\n",
      "File \u001b[0;32m<__array_function__ internals>:177\u001b[0m, in \u001b[0;36mnorm\u001b[0;34m(*args, **kwargs)\u001b[0m\n",
      "\u001b[0;31mKeyboardInterrupt\u001b[0m: "
     ]
    }
   ],
   "source": [
    "N = 12          # Number of points\n",
    "run_num = 20    # Number of runs\n",
    "\n",
    "# Run simulated annealing several times to find the best configuration\n",
    "points, energy = optimal_configuration(N, R, T_max, T_min, alpha, iter_num, run_num)\n",
    "print(f'Energy = {energy}')"
   ]
  },
  {
   "cell_type": "code",
   "execution_count": null,
   "metadata": {},
   "outputs": [],
   "source": [
    "# Show the optimal configuration\n",
    "show_points(points, R)\n",
    "\n",
    "# Test the configuration\n",
    "if test_configuration(points, R):\n",
    "    print('This configuration is valid.')\n",
    "else:\n",
    "    print('This configuration is invalid.')"
   ]
  },
  {
   "cell_type": "markdown",
   "metadata": {},
   "source": [
    "#### Compare three methods"
   ]
  },
  {
   "cell_type": "code",
   "execution_count": null,
   "metadata": {},
   "outputs": [],
   "source": [
    "# Compare two simulated annealing algorithms\n",
    "correct_num = 0\n",
    "correct_num_immediately = 0\n",
    "correct_num_together = 0\n",
    "N = 11\n",
    "run_num = 20\n",
    "\n",
    "for i in range(run_num):\n",
    "    points, *_ = simulated_annealing(N, R, T_max, T_min, alpha, iter_num)\n",
    "    correct_num += test_configuration(points, R)\n",
    "    points, *_ = simulated_annealing_immediately(N, R, T_max, T_min, alpha, iter_num)\n",
    "    correct_num_immediately += test_configuration(points, R)\n",
    "    points, *_ = simulated_annealing_together(N, R, T_max, T_min, alpha, iter_num)\n",
    "    correct_num_together += test_configuration(points, R)\n",
    "\n",
    "print(f'Correct probability of simulated_annealing: {correct_num / run_num}')\n",
    "print(f'Correct probability of simulated_annealing_immediately: {correct_num_immediately / run_num}')\n",
    "print(f'Correct probability of simulated_annealing_together: {correct_num_together / run_num}')"
   ]
  },
  {
   "cell_type": "code",
   "execution_count": null,
   "metadata": {},
   "outputs": [],
   "source": [
    "1-(1-0.15)**20"
   ]
  },
  {
   "cell_type": "markdown",
   "metadata": {},
   "source": [
    "#### Test a single method"
   ]
  },
  {
   "cell_type": "code",
   "execution_count": 5,
   "metadata": {},
   "outputs": [
    {
     "name": "stdout",
     "output_type": "stream",
     "text": [
      "Correct probability of simulated_annealing_immediately with step_length = 1: 0.03333333333333333\n"
     ]
    }
   ],
   "source": [
    "# Compare two simulated annealing algorithms\n",
    "N = 11\n",
    "run_num = 30\n",
    "correct_num_1 = 0\n",
    "correct_num_2 = 0\n",
    "\n",
    "for i in range(run_num):\n",
    "    points, *_ = simulated_annealing_immediately(N, R, T_max, T_min, alpha, iter_num, 1)\n",
    "    correct_num_1 += test_configuration(points, R)\n",
    "    # points, *_ = simulated_annealing_immediately(N, R, T_max, T_min, alpha, iter_num, 0.5)\n",
    "    # correct_num_2 += test_configuration(points, R)\n",
    "\n",
    "print(f'Correct probability of simulated_annealing_immediately with step_length = 1: {correct_num_1 / run_num}')\n",
    "# print(f'Correct probability of simulated_annealing_immediately with step_length = 0.5: {correct_num_2 / run_num}')"
   ]
  },
  {
   "cell_type": "markdown",
   "metadata": {},
   "source": [
    "#### Different cooling schedules"
   ]
  },
  {
   "cell_type": "code",
   "execution_count": null,
   "metadata": {},
   "outputs": [],
   "source": []
  }
 ],
 "metadata": {
  "kernelspec": {
   "display_name": "base",
   "language": "python",
   "name": "python3"
  },
  "language_info": {
   "codemirror_mode": {
    "name": "ipython",
    "version": 3
   },
   "file_extension": ".py",
   "mimetype": "text/x-python",
   "name": "python",
   "nbconvert_exporter": "python",
   "pygments_lexer": "ipython3",
   "version": "3.10.9"
  }
 },
 "nbformat": 4,
 "nbformat_minor": 2
}
