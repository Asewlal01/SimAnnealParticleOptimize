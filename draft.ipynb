{
 "cells": [
  {
   "cell_type": "code",
   "execution_count": null,
   "metadata": {},
   "outputs": [],
   "source": [
    "import numpy as np\n",
    "from SimulatedAnnealing import optimal_configuration, simulated_annealing, simulated_annealing_immediately, simulated_annealing_together\n",
    "from Analysis import show_points, test_configuration"
   ]
  },
  {
   "cell_type": "markdown",
   "metadata": {},
   "source": [
    "#### Constant parameters"
   ]
  },
  {
   "cell_type": "code",
   "execution_count": null,
   "metadata": {},
   "outputs": [],
   "source": [
    "R = 1           # Radius of the circle\n",
    "T_max = 200.    # Initial temperature\n",
    "T_min = 0.001   # Final temperature\n",
    "alpha = 0.9     # Temperature decay rate\n",
    "iter_num = 100  # Number of iterations at each temperature"
   ]
  },
  {
   "cell_type": "markdown",
   "metadata": {},
   "source": [
    "#### Get optimal configurations for different N"
   ]
  },
  {
   "cell_type": "code",
   "execution_count": null,
   "metadata": {},
   "outputs": [],
   "source": [
    "N = 11          # Number of points\n",
    "run_num = 20     # Number of runs\n",
    "\n",
    "# Run simulated annealing several times to find the best configuration\n",
    "points, energy = optimal_configuration(N, R, T_max, T_min, alpha, iter_num, run_num)\n",
    "print(f'Energy = {energy}')"
   ]
  },
  {
   "cell_type": "code",
   "execution_count": null,
   "metadata": {},
   "outputs": [],
   "source": [
    "# Show the optimal configuration\n",
    "show_points(points, R)\n",
    "\n",
    "# Test the configuration\n",
    "if test_configuration(points, R):\n",
    "    print('This configuration is valid.')\n",
    "else:\n",
    "    print('This configuration is invalid.')"
   ]
  },
  {
   "cell_type": "markdown",
   "metadata": {},
   "source": [
    "#### Compare three methods"
   ]
  },
  {
   "cell_type": "code",
   "execution_count": null,
   "metadata": {},
   "outputs": [],
   "source": [
    "# Compare two simulated annealing algorithms\n",
    "correct_num = 0\n",
    "correct_num_immediately = 0\n",
    "correct_num_together = 0\n",
    "N = 11\n",
    "run_num = 20\n",
    "\n",
    "for i in range(run_num):\n",
    "    points, *_ = simulated_annealing(N, R, T_max, T_min, alpha, iter_num)\n",
    "    correct_num += test_configuration(points, R)\n",
    "    points, *_ = simulated_annealing_immediately(N, R, T_max, T_min, alpha, iter_num)\n",
    "    correct_num_immediately += test_configuration(points, R)\n",
    "    points, *_ = simulated_annealing_together(N, R, T_max, T_min, alpha, iter_num)\n",
    "    correct_num_together += test_configuration(points, R)\n",
    "\n",
    "print(f'Correct probability of simulated_annealing: {correct_num / run_num}')\n",
    "print(f'Correct probability of simulated_annealing_immediately: {correct_num_immediately / run_num}')\n",
    "print(f'Correct probability of simulated_annealing_together: {correct_num_together / run_num}')"
   ]
  },
  {
   "cell_type": "code",
   "execution_count": null,
   "metadata": {},
   "outputs": [],
   "source": [
    "(1-0.15)**30"
   ]
  }
 ],
 "metadata": {
  "kernelspec": {
   "display_name": "base",
   "language": "python",
   "name": "python3"
  },
  "language_info": {
   "codemirror_mode": {
    "name": "ipython",
    "version": 3
   },
   "file_extension": ".py",
   "mimetype": "text/x-python",
   "name": "python",
   "nbconvert_exporter": "python",
   "pygments_lexer": "ipython3",
   "version": "3.10.9"
  }
 },
 "nbformat": 4,
 "nbformat_minor": 2
}
