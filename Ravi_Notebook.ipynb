{
 "cells": [
  {
   "cell_type": "code",
   "execution_count": 15,
   "metadata": {},
   "outputs": [],
   "source": [
    "import numpy as np\n",
    "import matplotlib.pyplot as plt\n",
    "from numba import jit"
   ]
  },
  {
   "cell_type": "code",
   "execution_count": 16,
   "metadata": {},
   "outputs": [],
   "source": [
    "@jit(nopython=True)\n",
    "# Function to initialize N positions randomly inside a unit circle\n",
    "def initialize(N):\n",
    "    p = []\n",
    "    while len(p) < N:\n",
    "        x = np.random.uniform(-1, 1)\n",
    "        y = np.random.uniform(-1, 1)\n",
    "        if x**2 + y**2 <= 1:\n",
    "            p.append([x, y])\n",
    "    return np.array(p)"
   ]
  },
  {
   "cell_type": "code",
   "execution_count": 17,
   "metadata": {},
   "outputs": [],
   "source": [
    "@jit(nopython=True)\n",
    "# Function to return a small perturbation\n",
    "def perturb(sigma):\n",
    "    k = np.random.normal(0, sigma)\n",
    "    # if k > 0:\n",
    "    #     return k\n",
    "    # else:\n",
    "    #     return k/10\n",
    "    return  abs(k)"
   ]
  },
  {
   "cell_type": "code",
   "execution_count": 18,
   "metadata": {},
   "outputs": [],
   "source": [
    "@jit(nopython=True)\n",
    "# Function to check whether particles are within a unit circle\n",
    "def in_circle(p):\n",
    "    return np.sum(p**2) <= 1"
   ]
  },
  {
   "cell_type": "code",
   "execution_count": 19,
   "metadata": {},
   "outputs": [],
   "source": [
    "@jit(nopython=True)\n",
    "# Function to calculate the energy of the system\n",
    "def energy(p):\n",
    "    E = 0\n",
    "    for i in range(len(p)):\n",
    "        for j in range(i+1, len(p)):\n",
    "            E += 1/np.linalg.norm(p[i] - p[j])\n",
    "    return E"
   ]
  },
  {
   "cell_type": "code",
   "execution_count": 20,
   "metadata": {},
   "outputs": [],
   "source": [
    "@jit(nopython=True)\n",
    "# Function to calculate the force on a particle\n",
    "def force(p, i):\n",
    "    f = np.zeros(2)\n",
    "    for j in range(len(p)):\n",
    "        if j != i:\n",
    "            f += (p[i] - p[j]) / np.linalg.norm(p[i] - p[j])**3\n",
    "    return f"
   ]
  },
  {
   "cell_type": "code",
   "execution_count": 21,
   "metadata": {},
   "outputs": [],
   "source": [
    "@jit(nopython=True)\n",
    "# Function to induce one perturbation on the system\n",
    "def forced_perturb(p, i, sigma):\n",
    "        dir = force(p, i)/np.linalg.norm(force(p, i)) # Calculate direction of force\n",
    "\n",
    "        p[i] += dir*perturb(sigma)\n",
    "        \n",
    "        if not in_circle(p[i]): # Check if perturbation is valid\n",
    "            p[i] *= 1/np.linalg.norm(p[i]) # If not, move particle back into the circle\n",
    "        return p"
   ]
  },
  {
   "cell_type": "code",
   "execution_count": 22,
   "metadata": {},
   "outputs": [],
   "source": [
    "@jit(nopython=True)\n",
    "# Function to induce one perturbation on the system\n",
    "def random_perturb(p, i, sigma):\n",
    "        p[i] += np.random.normal(0, sigma, 2)\n",
    "        \n",
    "        if not in_circle(p[i]): # Check if perturbation is valid\n",
    "            p[i] *= 1/np.linalg.norm(p[i]) # If not, move particle back into the circle\n",
    "        return p"
   ]
  },
  {
   "cell_type": "code",
   "execution_count": 23,
   "metadata": {},
   "outputs": [],
   "source": [
    "@jit(nopython=True)\n",
    "# Function to calculate the acceptance probability\n",
    "def acceptance_probability(E_old, E_new, T):\n",
    "    if E_new < E_old:\n",
    "        return 1\n",
    "    else:\n",
    "        return np.exp(-(E_new - E_old) / T)\n"
   ]
  },
  {
   "cell_type": "code",
   "execution_count": 24,
   "metadata": {},
   "outputs": [],
   "source": [
    "@jit(nopython=True)\n",
    "# Function to find new position of particles using random perturbation\n",
    "def random_new_positions(p, E, T, sigma):\n",
    "    p_new = p.copy()\n",
    "    E_new = E\n",
    "    \n",
    "    # Perturb the system\n",
    "    for i in range(len(p)):\n",
    "        p_trial = random_perturb(p_new, i, sigma)\n",
    "        E_trial = energy(p_trial)\n",
    "\n",
    "        # Check if perturbation is accepted\n",
    "        if acceptance_probability(E_new, E_trial, T) > np.random.uniform(0, 1):\n",
    "            p_new = p_trial\n",
    "            E_new = E_trial\n",
    "            \n",
    "    return p_new, E_new"
   ]
  },
  {
   "cell_type": "code",
   "execution_count": 25,
   "metadata": {},
   "outputs": [],
   "source": [
    "@jit(nopython=True)\n",
    "# Function to find new position of partcles using forced perturbation\n",
    "def forced_new_positions(p, E, T, sigma):\n",
    "    p_new = p.copy()\n",
    "    E_new = E\n",
    "    \n",
    "    # Perturb the system\n",
    "    for i in range(len(p)):\n",
    "        p_trial = forced_perturb(p_new, i, sigma)\n",
    "        E_trial = energy(p_trial)\n",
    "\n",
    "        # Check if perturbation is accepted\n",
    "        if acceptance_probability(E_new, E_trial, T) > np.random.uniform(0, 1):\n",
    "            p_new = p_trial\n",
    "            E_new = E_trial\n",
    "            \n",
    "    return p_new, E_new"
   ]
  },
  {
   "cell_type": "code",
   "execution_count": 26,
   "metadata": {},
   "outputs": [],
   "source": [
    "# Function to plot the positions of the particles\n",
    "def plot_positions(p):\n",
    "    fig, ax = plt.subplots()\n",
    "    circle = plt.Circle((0, 0), 1, color='blue', fill=False)\n",
    "    ax.add_artist(circle)\n",
    "    ax.scatter(p[:,0], p[:,1], color='red', s=4)\n",
    "    plt.xlim(-1.25, 1.25)\n",
    "    plt.ylim(-1.25, 1.25)\n",
    "    plt.axhline(y=0, color='blue')\n",
    "    plt.axvline(x=0, color='blue')\n",
    "    plt.title(\"Particle positions for N = \" + str(len(p)))\n",
    "    plt.show()"
   ]
  },
  {
   "cell_type": "code",
   "execution_count": 27,
   "metadata": {},
   "outputs": [],
   "source": [
    "@jit(nopython=True)\n",
    "# Function to run the annealing process\n",
    "def annealing(N, T_max, T_min, cooling_schedule, no_iterations):\n",
    "    # Initialize positions\n",
    "    p = initialize(N)\n",
    "\n",
    "    # Initialize energy\n",
    "    E = energy(p)\n",
    "\n",
    "    # Initialize temperature\n",
    "    T = T_max\n",
    "\n",
    "    # Initialize lists to store minima per temperature\n",
    "    E_min_per_temp = [E]\n",
    "    p_min_per_temp = [p]\n",
    "\n",
    "    # Annealing process\n",
    "    while T > T_min:\n",
    "        # Initialize lists to store results per iteration\n",
    "        E_iter = []\n",
    "        p_iter = []\n",
    "\n",
    "\n",
    "        # Markov chain\n",
    "        for k in range(no_iterations):\n",
    "            # Initialize standard deviation of random normal perturbation\n",
    "            sigma = T\n",
    "\n",
    "            # Inducing some random perturbations\n",
    "            if k == no_iterations/10:\n",
    "                p, E = random_new_positions(p, E, T, sigma)\n",
    "\n",
    "            # Get forced new positions for each iteration\n",
    "            p, E = forced_new_positions(p, E, T, sigma)\n",
    "            #print(\"E: \", E)\n",
    "            \n",
    "            E_iter.append(E)\n",
    "            p_iter.append(p)\n",
    "\n",
    "        # Store minimum energy and corresponding positions for each temperature\n",
    "        E_min_per_temp.append(min(E_iter))\n",
    "        p_min_per_temp.append(p_iter[E_iter.index(min(E_iter))])\n",
    "        \n",
    "        #print(\"E min per temperature: \", E_min_per_temp[-1])\n",
    "        #plot_positions(p_min_per_temp[-1])\n",
    "        \n",
    "        # Cool system\n",
    "        T *= cooling_schedule\n",
    "\n",
    "    return p_min_per_temp, E_min_per_temp    "
   ]
  },
  {
   "cell_type": "code",
   "execution_count": 28,
   "metadata": {},
   "outputs": [
    {
     "name": "stdout",
     "output_type": "stream",
     "text": [
      "1\n"
     ]
    },
    {
     "name": "stdout",
     "output_type": "stream",
     "text": [
      "E:  134.38769392214672\n",
      "E_min:  133.8282480441429\n",
      "2\n",
      "E:  133.81658534626558\n",
      "E_min:  133.81658534626558\n",
      "3\n",
      "E:  134.49944262881831\n",
      "4\n",
      "E:  133.8167244822656\n",
      "5\n",
      "E:  134.38720294083657\n",
      "6\n",
      "E:  134.3873926117056\n",
      "7\n",
      "E:  134.4921807854706\n",
      "8\n",
      "E:  134.3871764949428\n",
      "9\n",
      "E:  134.38737874432312\n",
      "10\n",
      "E:  134.38726671241045\n",
      "11\n",
      "E:  134.38757794036096\n",
      "12\n",
      "E:  134.3878516099335\n",
      "13\n",
      "E:  134.3874861984745\n",
      "14\n",
      "E:  134.38737167204314\n",
      "15\n",
      "E:  134.38774468347262\n",
      "16\n",
      "E:  134.38739706688938\n",
      "17\n",
      "E:  134.38760185232334\n",
      "18\n",
      "E:  134.38732261814897\n",
      "19\n",
      "E:  134.38780881505843\n",
      "20\n",
      "E:  134.3870977233946\n",
      "E_global_min:  133.81658534626558\n"
     ]
    },
    {
     "data": {
      "image/png": "[encoded data removed]",
      "text/plain": [
       "<Figure size 640x480 with 1 Axes>"
      ]
     },
     "metadata": {},
     "output_type": "display_data"
    }
   ],
   "source": [
    "particles = 17\n",
    "max_temp = 10\n",
    "min_temp = 0.01\n",
    "alpha = 0.9\n",
    "iterations = 100\n",
    "\n",
    "E_min = np.inf\n",
    "a = 0\n",
    "for _ in range(20):\n",
    "    a += 1\n",
    "    print(a)\n",
    "    positions, energies = annealing(particles, max_temp, min_temp, alpha, iterations)\n",
    "    print(\"E: \", energies[-1])\n",
    "    if min(energies) < E_min:\n",
    "        E_min = min(energies) \n",
    "        print(\"E_min: \", E_min)   \n",
    "        p_min = positions[energies.index(min(energies))]\n",
    "print(\"E_global_min: \", E_min)\n",
    "plot_positions(p_min)"
   ]
  },
  {
   "cell_type": "code",
   "execution_count": 5,
   "metadata": {},
   "outputs": [
    {
     "name": "stdout",
     "output_type": "stream",
     "text": [
      "[[-0.92335801  0.38394008]\n",
      " [ 0.91627023 -0.40056069]]\n"
     ]
    },
    {
     "ename": "AttributeError",
     "evalue": "module 'simulations_jit.SimulatedAnnealingForces' has no attribute 'plot_positions'",
     "output_type": "error",
     "traceback": [
      "\u001b[1;31m---------------------------------------------------------------------------\u001b[0m",
      "\u001b[1;31mAttributeError\u001b[0m                            Traceback (most recent call last)",
      "Cell \u001b[1;32mIn[5], line 10\u001b[0m\n\u001b[0;32m      8\u001b[0m a, b \u001b[38;5;241m=\u001b[39m saf\u001b[38;5;241m.\u001b[39mannealing(particles, max_temp, min_temp, alpha, iterations)\n\u001b[0;32m      9\u001b[0m \u001b[38;5;28mprint\u001b[39m(a)\n\u001b[1;32m---> 10\u001b[0m saf\u001b[38;5;241m.\u001b[39mplot_positions(a)\n",
      "\u001b[1;31mAttributeError\u001b[0m: module 'simulations_jit.SimulatedAnnealingForces' has no attribute 'plot_positions'"
     ]
    }
   ],
   "source": [
    "import simulations_jit.SimulatedAnnealingForces as saf \n",
    "\n",
    "particles = 2\n",
    "max_temp = 10\n",
    "min_temp = 0.01\n",
    "alpha = 0.9\n",
    "iterations = 100\n",
    "a, b = saf.annealing(particles, max_temp, min_temp, alpha, iterations)\n",
    "print(a)\n",
    "saf.plot_positions(a)"
   ]
  },
  {
   "cell_type": "code",
   "execution_count": 3,
   "metadata": {},
   "outputs": [
    {
     "ename": "NameError",
     "evalue": "name 'plot_positions' is not defined",
     "output_type": "error",
     "traceback": [
      "\u001b[1;31m---------------------------------------------------------------------------\u001b[0m",
      "\u001b[1;31mNameError\u001b[0m                                 Traceback (most recent call last)",
      "Cell \u001b[1;32mIn[3], line 1\u001b[0m\n\u001b[1;32m----> 1\u001b[0m plot_positions(a)\n",
      "\u001b[1;31mNameError\u001b[0m: name 'plot_positions' is not defined"
     ]
    }
   ],
   "source": [
    "plot_positions(a)"
   ]
  }
 ],
 "metadata": {
  "kernelspec": {
   "display_name": "base",
   "language": "python",
   "name": "python3"
  },
  "language_info": {
   "codemirror_mode": {
    "name": "ipython",
    "version": 3
   },
   "file_extension": ".py",
   "mimetype": "text/x-python",
   "name": "python",
   "nbconvert_exporter": "python",
   "pygments_lexer": "ipython3",
   "version": "3.11.4"
  }
 },
 "nbformat": 4,
 "nbformat_minor": 2
}
