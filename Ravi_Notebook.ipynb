{
 "cells": [
  {
   "cell_type": "code",
   "execution_count": 313,
   "metadata": {},
   "outputs": [],
   "source": [
    "import numpy as np\n",
    "import matplotlib.pyplot as plt\n",
    "import math"
   ]
  },
  {
   "cell_type": "code",
   "execution_count": 314,
   "metadata": {},
   "outputs": [],
   "source": [
    "# Function to initialize N positions randomly inside a unit circle\n",
    "def initialize(N):\n",
    "    p = []\n",
    "    while len(p) < N:\n",
    "        x = np.random.uniform(-1, 1)\n",
    "        y = np.random.uniform(-1, 1)\n",
    "        if x**2 + y**2 <= 1:\n",
    "            p.append([x, y])\n",
    "    return np.array(p)"
   ]
  },
  {
   "cell_type": "code",
   "execution_count": 315,
   "metadata": {},
   "outputs": [],
   "source": [
    "# Function to perturb the position of one particle\n",
    "def perturb(sigma):\n",
    "    return np.random.normal(0, sigma)"
   ]
  },
  {
   "cell_type": "code",
   "execution_count": 316,
   "metadata": {},
   "outputs": [],
   "source": [
    "# Function to check whether particles are within a unit circle\n",
    "def in_circle(p):\n",
    "    return np.sum(p**2) <= 1"
   ]
  },
  {
   "cell_type": "code",
   "execution_count": 317,
   "metadata": {},
   "outputs": [],
   "source": [
    "# Function to calculate the energy of the system\n",
    "def energy(p):\n",
    "    E = 0\n",
    "    for i in range(len(p)):\n",
    "        for j in range(i+1, len(p)):\n",
    "            E += np.linalg.norm(p[i] - p[j])\n",
    "    return E"
   ]
  },
  {
   "cell_type": "code",
   "execution_count": 318,
   "metadata": {},
   "outputs": [],
   "source": [
    "# Function to calculate the direction of the force on a particle\n",
    "def force(p, i):\n",
    "    f = np.zeros(2)\n",
    "    for j in range(len(p)):\n",
    "        if j != i:\n",
    "            f += (p[i] - p[j]) / np.linalg.norm(p[i] - p[j])**3\n",
    "    return f"
   ]
  },
  {
   "cell_type": "code",
   "execution_count": 319,
   "metadata": {},
   "outputs": [],
   "source": [
    "# Function to induce perturbations on the system\n",
    "def perturb_system(p, sigma):\n",
    "    for i in range(len(p)):\n",
    "        p[i] += perturb(sigma)\n",
    "    return p"
   ]
  },
  {
   "cell_type": "code",
   "execution_count": 320,
   "metadata": {},
   "outputs": [],
   "source": [
    "# Function to induce one perturbation on the system\n",
    "def perturb_one(p, i, sigma):\n",
    "    p_new = np.copy(p)\n",
    "    if i < len(p):\n",
    "        particle = p[i]\n",
    "        rotation = np.array[[np.sqrt(3)/2, -1/2], [1/2, np.sqrt(3)/2]]\n",
    "        perturbation = force(p, i)*perturb(sigma)\n",
    "        while not in_circle(particle + perturbation): # If the perturbation is too large, rotate and halve it until it is small enough\n",
    "            perturbation = np.dot(rotation, perturbation)/2.0\n",
    "        if in_circle(p[i] + perturbation):\n",
    "            p[i] += perturbation\n",
    "            return p_new\n",
    "    else:\n",
    "        print(\"Particle number out of range\")\n",
    "        return p"
   ]
  },
  {
   "cell_type": "code",
   "execution_count": 321,
   "metadata": {},
   "outputs": [],
   "source": [
    "# Function to calculate the acceptance probability\n",
    "def acceptance_probability(E_old, E_new, T):\n",
    "    if E_new < E_old:\n",
    "        return 1\n",
    "    else:\n",
    "        return math.exp(-(E_new - E_old) / T)\n"
   ]
  },
  {
   "cell_type": "code",
   "execution_count": 322,
   "metadata": {},
   "outputs": [],
   "source": [
    "# Function to plot the positions of the particles\n",
    "def plot_positions(p):\n",
    "    fig, ax = plt.subplots()\n",
    "    circle = plt.Circle((0, 0), 1, color='black', fill=False)\n",
    "    ax.add_artist(circle)\n",
    "    ax.scatter(p[:,0], p[:,1], color='red', s=4)\n",
    "    plt.xlim(-1.25, 1.25)\n",
    "    plt.ylim(-1.25, 1.25)\n",
    "    plt.axhline(y=0, color='black')\n",
    "    plt.axvline(x=0, color='black')\n",
    "    plt.show()"
   ]
  },
  {
   "cell_type": "code",
   "execution_count": 323,
   "metadata": {},
   "outputs": [],
   "source": [
    "# Function to run the annealing process\n",
    "def S_A(N, T_max, T,min, cooling_schedule, no_iterations):\n",
    "    # Initialize positions\n",
    "    p = initialize(N)\n",
    "\n",
    "    # Initialize temperature\n",
    "    T = T_max\n",
    "\n",
    "    # Annealing process\n",
    "    while T > T_min: \n",
    "        # Initialize energy\n",
    "        E = energy(p)\n",
    "\n",
    "        sigma = T/T_max\n",
    "\n",
    "        # Markov chain\n",
    "        for _ in range(no_iterations):\n",
    "            for i in range(N):\n",
    "                # Calculate force on particle\n",
    "                f = force(p, i)\n",
    "\n",
    "                # Find perturbed position\n",
    "                p_new = perturb_one(p, i, sigma)            \n",
    "\n",
    "                # Calculate new energy\n",
    "                E_new = energy(p_new)\n",
    "\n",
    "                # Calculate acceptance probability\n",
    "                if acceptance_probability(E, E_new, T) > np.random.uniform(0, 1):\n",
    "                    p = p_new\n",
    "                    E = E_new\n",
    "\n",
    "        # Cool system\n",
    "        T *= cooling_schedule\n",
    "\n",
    "    # Plot final positions\n",
    "    plot_positions(p)"
   ]
  },
  {
   "cell_type": "code",
   "execution_count": 324,
   "metadata": {},
   "outputs": [
    {
     "ename": "TypeError",
     "evalue": "S_A() missing 1 required positional argument: 'no_iterations'",
     "output_type": "error",
     "traceback": [
      "\u001b[1;31m---------------------------------------------------------------------------\u001b[0m",
      "\u001b[1;31mTypeError\u001b[0m                                 Traceback (most recent call last)",
      "\u001b[1;32md:\\UvA VU\\Stochastic Simulations\\StoSimRepository\\StoSim3\\StoSim3\\Ravi_Notebook.ipynb Cell 12\u001b[0m line \u001b[0;36m7\n\u001b[0;32m      <a href='vscode-notebook-cell:/d%3A/UvA%20VU/Stochastic%20Simulations/StoSimRepository/StoSim3/StoSim3/Ravi_Notebook.ipynb#W2sZmlsZQ%3D%3D?line=3'>4</a>\u001b[0m alpha \u001b[39m=\u001b[39m \u001b[39m0.9\u001b[39m\n\u001b[0;32m      <a href='vscode-notebook-cell:/d%3A/UvA%20VU/Stochastic%20Simulations/StoSimRepository/StoSim3/StoSim3/Ravi_Notebook.ipynb#W2sZmlsZQ%3D%3D?line=4'>5</a>\u001b[0m iterations \u001b[39m=\u001b[39m \u001b[39m100\u001b[39m\n\u001b[1;32m----> <a href='vscode-notebook-cell:/d%3A/UvA%20VU/Stochastic%20Simulations/StoSimRepository/StoSim3/StoSim3/Ravi_Notebook.ipynb#W2sZmlsZQ%3D%3D?line=6'>7</a>\u001b[0m S_A(particles, max_temp, min_temp, alpha, iterations)\n",
      "\u001b[1;31mTypeError\u001b[0m: S_A() missing 1 required positional argument: 'no_iterations'"
     ]
    }
   ],
   "source": [
    "particles = 2\n",
    "max_temp = 2000\n",
    "min_temp = 5\n",
    "alpha = 0.9\n",
    "iterations = 100\n",
    "\n",
    "S_A(particles, max_temp, min_temp, alpha, iterations)\n"
   ]
  },
  {
   "cell_type": "code",
   "execution_count": null,
   "metadata": {},
   "outputs": [
    {
     "ename": "TypeError",
     "evalue": "S_A() missing 1 required positional argument: 'no_iterations'",
     "output_type": "error",
     "traceback": [
      "\u001b[1;31m---------------------------------------------------------------------------\u001b[0m",
      "\u001b[1;31mTypeError\u001b[0m                                 Traceback (most recent call last)",
      "\u001b[1;32md:\\UvA VU\\Stochastic Simulations\\StoSimRepository\\StoSim3\\StoSim3\\Ravi_Notebook.ipynb Cell 13\u001b[0m line \u001b[0;36m1\n\u001b[1;32m----> <a href='vscode-notebook-cell:/d%3A/UvA%20VU/Stochastic%20Simulations/StoSimRepository/StoSim3/StoSim3/Ravi_Notebook.ipynb#W3sZmlsZQ%3D%3D?line=0'>1</a>\u001b[0m S_A(\u001b[39m2\u001b[39m, \u001b[39m2000\u001b[39m, \u001b[39m5\u001b[39m, \u001b[39m0.9\u001b[39m, \u001b[39m100\u001b[39m)\n",
      "\u001b[1;31mTypeError\u001b[0m: S_A() missing 1 required positional argument: 'no_iterations'"
     ]
    }
   ],
   "source": [
    "S_A(2, 2000, 5, 0.9, 100)"
   ]
  },
  {
   "cell_type": "code",
   "execution_count": null,
   "metadata": {},
   "outputs": [
    {
     "data": {
      "text/plain": [
       "<matplotlib.patches.FancyArrow at 0x2932ff2fd10>"
      ]
     },
     "execution_count": 304,
     "metadata": {},
     "output_type": "execute_result"
    },
    {
     "data": {
      "image/png": "[encoded data removed]",
      "text/plain": [
       "<Figure size 640x480 with 1 Axes>"
      ]
     },
     "metadata": {},
     "output_type": "display_data"
    }
   ],
   "source": [
    "A = [1,0]\n",
    "R = [[np.sqrt(3)/2, -1/2], [1/2, np.sqrt(3)/2]]\n",
    "A = np.dot(R,A)\n",
    "A = np.dot(R,A)\n",
    "A = np.dot(R,A)\n",
    "A = np.dot(R,A)\n",
    "plt.arrow(0, 0, A[0], A[1], head_width=0.05, head_length=0.1, fc='k', ec='k')"
   ]
  }
 ],
 "metadata": {
  "kernelspec": {
   "display_name": "base",
   "language": "python",
   "name": "python3"
  },
  "language_info": {
   "codemirror_mode": {
    "name": "ipython",
    "version": 3
   },
   "file_extension": ".py",
   "mimetype": "text/x-python",
   "name": "python",
   "nbconvert_exporter": "python",
   "pygments_lexer": "ipython3",
   "version": "3.11.4"
  }
 },
 "nbformat": 4,
 "nbformat_minor": 2
}
