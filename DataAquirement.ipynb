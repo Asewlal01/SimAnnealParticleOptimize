{
 "cells": [
  {
   "cell_type": "markdown",
   "source": [
    "# Imports"
   ],
   "metadata": {
    "collapsed": false
   },
   "id": "8e330b54ee13de6f"
  },
  {
   "cell_type": "code",
   "execution_count": 1,
   "outputs": [],
   "source": [
    "import matplotlib.pyplot as plt\n",
    "\n",
    "from simulations_jit.SimulatedAnnealing import *\n",
    "from simulations_jit.SimulatedAnnealingForces import *\n",
    "from Analysis import *\n",
    "import numpy as np"
   ],
   "metadata": {
    "collapsed": false,
    "ExecuteTime": {
     "end_time": "2023-12-22T13:58:46.933396500Z",
     "start_time": "2023-12-22T13:58:45.719998700Z"
    }
   },
   "id": "c5b059e8aa82f9f9"
  },
  {
   "cell_type": "markdown",
   "source": [
    "# Number of simulations"
   ],
   "metadata": {
    "collapsed": false
   },
   "id": "a1e81f750fbd9b67"
  },
  {
   "cell_type": "code",
   "execution_count": 2,
   "outputs": [],
   "source": [
    "n_simulations = 20"
   ],
   "metadata": {
    "collapsed": false,
    "ExecuteTime": {
     "end_time": "2023-12-22T13:58:46.949091800Z",
     "start_time": "2023-12-22T13:58:46.938079400Z"
    }
   },
   "id": "6cb9b588c6d040bd"
  },
  {
   "cell_type": "markdown",
   "source": [
    "# Getting best configurations for N=3, 5, 7, 9, 11, 12"
   ],
   "metadata": {
    "collapsed": false
   },
   "id": "46df1634e3ca11a5"
  },
  {
   "cell_type": "code",
   "execution_count": 43,
   "outputs": [
    {
     "name": "stdout",
     "output_type": "stream",
     "text": [
      "N =  3\n",
      "N =  5\n",
      "N =  7\n",
      "N =  9\n",
      "N =  11\n"
     ]
    }
   ],
   "source": [
    "# Parameters\n",
    "N = [3, 5, 6, 7, 9, 11, 12]\n",
    "R = 1\n",
    "Temp_max = np.exp(2)\n",
    "Temp_min = np.exp(-10)\n",
    "alpha = 0.9\n",
    "iter_num = 100\n",
    "\n",
    "# Getting best configurations\n",
    "positions = np.empty((1, 2))\n",
    "energies = []\n",
    "    \n",
    "for i in range(len(N)):\n",
    "    n = N[i]\n",
    "    print(\"N = \", n)\n",
    "    # Get results\n",
    "    p, E = optimal_configuration(n, R, Temp_max, Temp_min, alpha, iter_num, 100, simulated_annealing)\n",
    "    \n",
    "    # Add to positions\n",
    "    positions = np.concatenate([positions, p])\n",
    "    \n",
    "    # Add to energies\n",
    "    energies.append(E)\n",
    "\n",
    "# Remove first row of positions\n",
    "positions = positions[1:, :]\n",
    "\n",
    "# Save results\n",
    "np.savetxt('res/configurations.txt', positions)\n",
    "np.savetxt('res/energies.txt', energies)"
   ],
   "metadata": {
    "collapsed": false,
    "ExecuteTime": {
     "end_time": "2023-12-21T23:10:20.442559500Z",
     "start_time": "2023-12-21T22:59:33.042549Z"
    }
   },
   "id": "b5059e1597978b0b"
  },
  {
   "cell_type": "code",
   "execution_count": 39,
   "outputs": [],
   "source": [
    "N = 11\n",
    "alpha = 0.9\n",
    "R = 1\n",
    "Temp_max = np.exp(2)\n",
    "Temp_min = np.exp(-10)\n",
    "\n",
    "methods = [simulated_annealing, simulated_annealing_forces]\n",
    "\n",
    "Ts = get_T_history(Temp_max, Temp_min, alpha)\n",
    "iter_num = 100\n",
    "res = []\n",
    "for method in methods:\n",
    "    energies = []\n",
    "    for sim in range(n_simulations):\n",
    "        p, E = method(N, R, Temp_max, Temp_min, alpha, iter_num)\n",
    "        energies.append(E)\n",
    "    \n",
    "    res.append(energies)\n",
    "    \n"
   ],
   "metadata": {
    "collapsed": false,
    "ExecuteTime": {
     "end_time": "2023-12-22T14:16:33.369774100Z",
     "start_time": "2023-12-22T14:15:51.928968600Z"
    }
   },
   "id": "e26f6445e13ea5f5"
  },
  {
   "cell_type": "code",
   "execution_count": 44,
   "outputs": [
    {
     "data": {
      "text/plain": "<matplotlib.legend.Legend at 0x7f54297c5a80>"
     },
     "execution_count": 44,
     "metadata": {},
     "output_type": "execute_result"
    },
    {
     "data": {
      "text/plain": "<Figure size 640x480 with 1 Axes>",
      "image/png": "[encoded data removed]"
     },
     "metadata": {},
     "output_type": "display_data"
    }
   ],
   "source": [
    "names = ['Random', 'Forced']\n",
    "for i, energies in enumerate(res):\n",
    "    energies = np.array(energies)\n",
    "    \n",
    "    E_mean = np.mean(energies, axis=0)\n",
    "    E_conf = (np.std(energies, axis=0) * 1.96 / np.sqrt(n_simulations))\n",
    "    \n",
    "    \n",
    "    Ts = get_T_history(Temp_max, Temp_min, alpha)\n",
    "    \n",
    "    \n",
    "    plt.loglog(Ts, E_mean, label=names[i])\n",
    "    plt.fill_between(Ts, E_mean, E_mean-E_conf, E_mean+E_conf, alpha=0.5)\n",
    "plt.gca().invert_xaxis()\n",
    "plt.legend()"
   ],
   "metadata": {
    "collapsed": false,
    "ExecuteTime": {
     "end_time": "2023-12-22T14:17:39.180471800Z",
     "start_time": "2023-12-22T14:17:38.237100100Z"
    }
   },
   "id": "9744e4b13f407b64"
  },
  {
   "cell_type": "markdown",
   "source": [
    "# Random vs Forced"
   ],
   "metadata": {
    "collapsed": false
   },
   "id": "f81667b38afd1d0"
  },
  {
   "cell_type": "code",
   "execution_count": 45,
   "outputs": [],
   "source": [
    "Ns = [11, 20]\n",
    "alpha = 0.9\n",
    "R = 1\n",
    "Temp_max = np.exp(2)\n",
    "Temp_min = np.exp(-10)\n",
    "iter_num = 100\n",
    "methods = [simulated_annealing, simulated_annealing_forces]\n",
    "\n",
    "results = []\n",
    "for N in Ns:\n",
    "    temp = []\n",
    "    for method in methods:\n",
    "        energies = []\n",
    "        for sim in range(n_simulations):\n",
    "            p, E = method(N, R, Temp_max, Temp_min, alpha, iter_num)\n",
    "            energies.append(E)\n",
    "    \n",
    "        temp.append(energies)\n",
    "    results.append(temp)\n",
    "\n"
   ],
   "metadata": {
    "collapsed": false,
    "ExecuteTime": {
     "end_time": "2023-12-22T14:25:49.411934200Z",
     "start_time": "2023-12-22T14:20:48.784056Z"
    }
   },
   "id": "692300723d287149"
  },
  {
   "cell_type": "code",
   "execution_count": 53,
   "outputs": [
    {
     "name": "stderr",
     "output_type": "stream",
     "text": [
      "No artists with labels found to put in legend.  Note that artists whose label start with an underscore are ignored when legend() is called with no argument.\n"
     ]
    },
    {
     "data": {
      "text/plain": "<Figure size 1100x500 with 2 Axes>",
      "image/png": "[encoded data removed]"
     },
     "metadata": {},
     "output_type": "display_data"
    }
   ],
   "source": [
    "names = ['Random', 'Random and Forced']\n",
    "fig, ax = plt.subplots(1,2, figsize=(11,5))\n",
    "for i, res in enumerate(results):\n",
    "    for j, energies in enumerate(res):\n",
    "        # To array\n",
    "        energies = np.array(energies)\n",
    "        \n",
    "        # Get mean and confidence interval\n",
    "        E_mean = np.mean(energies, axis=0)\n",
    "        E_conf = (np.std(energies, axis=0) * 1.96 / np.sqrt(n_simulations))\n",
    "    \n",
    "    \n",
    "        Ts = get_T_history(Temp_max, Temp_min, alpha)\n",
    "    \n",
    "    \n",
    "        ax[i].loglog(Ts, E_mean, label=names[i])\n",
    "        ax[i].fill_between(Ts, E_mean, E_mean-E_conf, E_mean+E_conf, alpha=0.5)\n",
    "    plt.gca().invert_xaxis()\n",
    "    plt.legend()"
   ],
   "metadata": {
    "collapsed": false,
    "ExecuteTime": {
     "end_time": "2023-12-22T14:27:50.469268400Z",
     "start_time": "2023-12-22T14:27:49.023400600Z"
    }
   },
   "id": "20e7735e562cc65b"
  },
  {
   "cell_type": "markdown",
   "source": [
    "# Vary iterations"
   ],
   "metadata": {
    "collapsed": false
   },
   "id": "e8125429c2bf9773"
  },
  {
   "cell_type": "code",
   "execution_count": 84,
   "outputs": [],
   "source": [
    "Parameters\n",
    "N = [5, 7, 9, 11]\n",
    "iters = [1, 2, 5, 10, 25, 50, 100]\n",
    "R = 1\n",
    "Temp_max = np.exp(2)\n",
    "Temp_min = np.exp(-10)\n",
    "alpha = 0.9\n",
    "\n",
    "# Storing results\n",
    "results = []\n",
    "\n",
    "for n in N:\n",
    "    res = []    \n",
    "    for iter_num in iters:\n",
    "        # Store energies\n",
    "        energies = []\n",
    "        \n",
    "        # Loop through each simulation\n",
    "        for sim in range(n_simulations):\n",
    "            # Run simulation\n",
    "            p, E = simulated_annealing_forces(n, R, Temp_max, Temp_min, alpha, iter_num)\n",
    "            \n",
    "            # Add to list\n",
    "            energies.append(E)\n",
    "        \n",
    "        # Calculate mean and std\n",
    "        E_mean = np.mean(energies)\n",
    "        E_std = np.std(energies, ddof=1)\n",
    "        \n",
    "        # Calculate confidence interval\n",
    "        E_conf = 1.96 * E_std / np.sqrt(n_simulations)\n",
    "        \n",
    "        res.append([E_mean, E_conf])\n",
    "    \n",
    "    # Add to results\n",
    "    results = np.hstack([results, np.array(res)])\n",
    "\n",
    "# Save results\n",
    "np.savetxt('res/vary_iterations.txt', results)\n",
    "            "
   ],
   "metadata": {
    "collapsed": false,
    "ExecuteTime": {
     "end_time": "2023-12-21T23:47:10.503978900Z",
     "start_time": "2023-12-21T23:44:14.299486Z"
    }
   },
   "id": "ade1999cc17a154a"
  },
  {
   "cell_type": "code",
   "execution_count": null,
   "outputs": [],
   "source": [
    "N = 25\n",
    "alphas = [0.2, 0.3, 0.4, 0.5, 0.7, 0.8, 0.9]\n",
    "R = 1\n",
    "Temp_max = np.exp(2)\n",
    "Temp_min = np.exp(-10)\n",
    "iter_num = 100\n",
    "\n",
    "# Storing results\n",
    "results = np.array(alphas).reshape(-1, 1)\n",
    "\n",
    "for alpha in alphas:\n",
    "    # Store energies\n",
    "    energies = []\n",
    "\n",
    "    # Loop through each simulation\n",
    "    for sim in range(n_simulations):\n",
    "        # Run simulation\n",
    "        p, E = simulated_annealing(n, R, Temp_max, Temp_min, alpha, iter_num)\n",
    "\n",
    "        # Add to list\n",
    "        energies.append(E)\n",
    "\n",
    "    # Calculate mean and std\n",
    "    E_mean = np.mean(energies)\n",
    "    E_std = np.std(energies, ddof=1)\n",
    "\n",
    "    # Calculate confidence interval\n",
    "    E_conf = 1.96 * E_std / np.sqrt(n_simulations)\n",
    "\n",
    "    results.append([E_mean, E_conf])\n",
    "\n",
    "# Save results\n",
    "np.savetxt('res/vary_alphas_25N.txt', results)"
   ],
   "metadata": {
    "collapsed": false
   },
   "id": "537ccd9ac691227d"
  },
  {
   "cell_type": "markdown",
   "source": [
    "# Comparing with new method\n",
    "## Different values for $\\alpha$"
   ],
   "metadata": {
    "collapsed": false
   },
   "id": "747e1aa8ea4c5d0e"
  },
  {
   "cell_type": "code",
   "execution_count": 3,
   "outputs": [],
   "source": [
    "N = [5, 7, 9, 11]\n",
    "alphas = [0.2, 0.3, 0.4, 0.5, 0.7, 0.8, 0.9]\n",
    "R = 1\n",
    "Temp_max = np.exp(2)\n",
    "Temp_min = np.exp(-10)\n",
    "iter_num = 100\n",
    "\n",
    "# Storing results\n",
    "results = np.array(alphas).reshape(-1, 1)\n",
    "\n",
    "for n in N:\n",
    "    res = []\n",
    "    for alpha in alphas:\n",
    "        # Store energies\n",
    "        energies = []\n",
    "\n",
    "        # Loop through each simulation\n",
    "        for sim in range(n_simulations):\n",
    "            # Run simulation\n",
    "            p, E = simulated_annealing_forces(n, R, Temp_max, Temp_min, alpha, iter_num)\n",
    "\n",
    "            # Add to list\n",
    "            energies.append(E)\n",
    "\n",
    "        # Calculate mean and std\n",
    "        E_mean = np.mean(energies)\n",
    "        E_std = np.std(energies, ddof=1)\n",
    "\n",
    "        # Calculate confidence interval\n",
    "        E_conf = 1.96 * E_std / np.sqrt(n_simulations)\n",
    "\n",
    "        res.append([E_mean, E_conf])\n",
    "\n",
    "    # Add to results\n",
    "    results = np.hstack([results, np.array(res)])\n",
    "\n",
    "# Save results\n",
    "np.savetxt('res/vary_alphas_forces.txt', results)"
   ],
   "metadata": {
    "collapsed": false,
    "ExecuteTime": {
     "end_time": "2023-12-22T08:31:37.087691500Z",
     "start_time": "2023-12-22T08:29:36.005861900Z"
    }
   },
   "id": "ab9cd119e6c35c78"
  },
  {
   "cell_type": "markdown",
   "source": [
    "## Different Markov-Chain lengths"
   ],
   "metadata": {
    "collapsed": false
   },
   "id": "e77906f41aea6baa"
  },
  {
   "cell_type": "code",
   "execution_count": 4,
   "outputs": [],
   "source": [
    "# Parameters\n",
    "N = [5, 7, 9, 11]\n",
    "iters = [1, 2, 5, 10, 25, 50, 100]\n",
    "R = 1\n",
    "Temp_max = np.exp(2)\n",
    "Temp_min = np.exp(-10)\n",
    "alpha = 0.9\n",
    "\n",
    "# Storing results\n",
    "results = np.array(iters).reshape(-1, 1)\n",
    "\n",
    "for n in N:\n",
    "    res = []\n",
    "    for iter_num in iters:\n",
    "        # Store energies\n",
    "        energies = []\n",
    "\n",
    "        # Loop through each simulation\n",
    "        for sim in range(n_simulations):\n",
    "            # Run simulation\n",
    "            p, E = simulated_annealing_forces(n, R, Temp_max, Temp_min, alpha, iter_num)\n",
    "\n",
    "            # Add to list\n",
    "            energies.append(E[-1])\n",
    "\n",
    "        # Calculate mean and std\n",
    "        E_mean = np.mean(energies)\n",
    "        E_std = np.std(energies, ddof=1)\n",
    "\n",
    "        # Calculate confidence interval\n",
    "        E_conf = 1.96 * E_std / np.sqrt(n_simulations)\n",
    "\n",
    "        res.append([E_mean, E_conf])\n",
    "\n",
    "    # Add to results\n",
    "    results = np.hstack([results, np.array(res)])\n",
    "\n",
    "# Save results\n",
    "np.savetxt('res/vary_iterations_forces.txt', results)\n"
   ],
   "metadata": {
    "collapsed": false,
    "ExecuteTime": {
     "end_time": "2023-12-22T08:33:13.318038800Z",
     "start_time": "2023-12-22T08:31:37.109835600Z"
    }
   },
   "id": "e2d7f6c62d90bfdd"
  },
  {
   "cell_type": "markdown",
   "source": [
    "# Finding magic numbers with only random perturbations"
   ],
   "metadata": {
    "collapsed": false
   },
   "id": "c013e5ffd4e7c7d1"
  },
  {
   "cell_type": "code",
   "execution_count": 4,
   "outputs": [],
   "source": [
    "# Parameters\n",
    "N_begin = 24\n",
    "N_end = 49\n",
    "Ns = np.arange(N_begin, N_end)\n",
    "iter_num = 100\n",
    "R = 1\n",
    "Temp_max = np.exp(2)\n",
    "Temp_min = np.exp(-10)\n",
    "alpha = 0.9\n",
    "\n",
    "# Positions\n",
    "positions = multi_simulate_particle(Ns, 1, Temp_max, Temp_min, alpha, iter_num, simulated_annealing)\n",
    "\n",
    "# Sort positions\n",
    "lengths = [len(positions[i]) for i in range(len(positions))]\n",
    "sorted_positions = [x for _, x in sorted(zip(lengths, positions))]\n",
    "\n",
    "# To one array\n",
    "positions = np.vstack(sorted_positions)\n",
    "\n",
    "# Save results\n",
    "np.savetxt('res/configurations_bigN.txt', positions)\n",
    "    "
   ],
   "metadata": {
    "collapsed": false,
    "ExecuteTime": {
     "end_time": "2023-12-22T11:51:01.491948800Z",
     "start_time": "2023-12-22T11:44:09.082646900Z"
    }
   },
   "id": "96d8d4cb9fa9f90d"
  },
  {
   "cell_type": "code",
   "execution_count": 15,
   "outputs": [],
   "source": [
    "# Range for magic numbers\n",
    "Ns = np.arange(25, 30)\n",
    "\n",
    "# Number of simulations\n",
    "n_sims = 10\n",
    "\n",
    "positions = []\n",
    "\n",
    "for N in Ns:\n",
    "    p, E = optimal_configuration(N, 1, Temp_max, Temp_min, alpha, iter_num, n_sims, simulated_annealing)\n",
    "    positions.append(p)\n",
    "\n",
    "positions = np.vstack(positions)\n",
    "\n",
    "# Save results\n",
    "np.savetxt('res/configurations_bigN2.txt', positions)"
   ],
   "metadata": {
    "collapsed": false,
    "ExecuteTime": {
     "end_time": "2023-12-22T12:17:44.796973800Z",
     "start_time": "2023-12-22T12:12:33.379414800Z"
    }
   },
   "id": "ed2b722b992eea5"
  },
  {
   "cell_type": "code",
   "execution_count": 37,
   "outputs": [],
   "source": [
    "# Range for magic numbers\n",
    "Ns = [29, 30]\n",
    "\n",
    "# Number of simulations\n",
    "n_sims = 50\n",
    "\n",
    "positions = []\n",
    "\n",
    "for N in Ns:\n",
    "    p, E = optimal_configuration(N, 1, Temp_max, Temp_min, alpha, iter_num, n_sims, simulated_annealing)\n",
    "    positions.append(p)\n",
    "\n",
    "positions = np.vstack(positions)\n",
    "\n",
    "# Save results\n",
    "np.savetxt('res/configurations_bigN3.txt', positions)"
   ],
   "metadata": {
    "collapsed": false,
    "ExecuteTime": {
     "end_time": "2023-12-22T13:42:13.612754Z",
     "start_time": "2023-12-22T13:31:01.664987900Z"
    }
   },
   "id": "35c968f3e5186cfe"
  },
  {
   "cell_type": "markdown",
   "source": [
    "# Finding magic number with random and forced perturbations"
   ],
   "metadata": {
    "collapsed": false
   },
   "id": "e5d5f278df91ca1b"
  },
  {
   "cell_type": "code",
   "execution_count": 38,
   "outputs": [],
   "source": [
    "# Range for magic numbers\n",
    "Ns = [29, 30]\n",
    "\n",
    "# Number of simulations\n",
    "n_sims = 50\n",
    "\n",
    "positions = []\n",
    "\n",
    "for N in Ns:\n",
    "    p, E = optimal_configuration(N, 1, Temp_max, Temp_min, alpha, iter_num, n_sims, simulated_annealing_forces)\n",
    "    positions.append(p)\n",
    "\n",
    "positions = np.vstack(positions)\n",
    "\n",
    "# Save results\n",
    "np.savetxt('res/configurations_bigN3_forces.txt', positions)"
   ],
   "metadata": {
    "collapsed": false,
    "ExecuteTime": {
     "end_time": "2023-12-22T13:53:25.174284300Z",
     "start_time": "2023-12-22T13:42:13.654438300Z"
    }
   },
   "id": "1304e888f3888f9c"
  },
  {
   "cell_type": "code",
   "execution_count": null,
   "outputs": [],
   "source": [],
   "metadata": {
    "collapsed": false
   },
   "id": "b75ad0eca4cb46d4"
  }
 ],
 "metadata": {
  "kernelspec": {
   "display_name": "Python 3",
   "language": "python",
   "name": "python3"
  },
  "language_info": {
   "codemirror_mode": {
    "name": "ipython",
    "version": 2
   },
   "file_extension": ".py",
   "mimetype": "text/x-python",
   "name": "python",
   "nbconvert_exporter": "python",
   "pygments_lexer": "ipython2",
   "version": "2.7.6"
  }
 },
 "nbformat": 4,
 "nbformat_minor": 5
}
