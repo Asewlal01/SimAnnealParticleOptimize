{
 "cells": [
  {
   "cell_type": "markdown",
   "source": [
    "# Imports"
   ],
   "metadata": {
    "collapsed": false
   },
   "id": "8e330b54ee13de6f"
  },
  {
   "cell_type": "code",
   "execution_count": 1,
   "outputs": [],
   "source": [
    "from simulations_jit.SimulatedAnnealing import *\n",
    "from simulations_jit.SimulatedAnnealingForces import *\n",
    "from Analysis import *\n",
    "import numpy as np"
   ],
   "metadata": {
    "collapsed": false,
    "ExecuteTime": {
     "end_time": "2023-12-21T23:18:52.118097200Z",
     "start_time": "2023-12-21T23:18:50.940025200Z"
    }
   },
   "id": "c5b059e8aa82f9f9"
  },
  {
   "cell_type": "markdown",
   "source": [
    "# Number of simulations"
   ],
   "metadata": {
    "collapsed": false
   },
   "id": "a1e81f750fbd9b67"
  },
  {
   "cell_type": "code",
   "execution_count": 3,
   "outputs": [],
   "source": [
    "n_simulations = 20"
   ],
   "metadata": {
    "collapsed": false,
    "ExecuteTime": {
     "end_time": "2023-12-21T23:18:52.699035300Z",
     "start_time": "2023-12-21T23:18:52.687012900Z"
    }
   },
   "id": "6cb9b588c6d040bd"
  },
  {
   "cell_type": "markdown",
   "source": [
    "# Getting best configurations for N=3, 5, 7, 11, 12, 13, 15, 16"
   ],
   "metadata": {
    "collapsed": false
   },
   "id": "46df1634e3ca11a5"
  },
  {
   "cell_type": "code",
   "execution_count": 43,
   "outputs": [
    {
     "name": "stdout",
     "output_type": "stream",
     "text": [
      "N =  3\n",
      "N =  5\n",
      "N =  7\n",
      "N =  9\n",
      "N =  11\n"
     ]
    }
   ],
   "source": [
    "# Parameters\n",
    "N = [3, 5, 7, 9, 11]\n",
    "R = 1\n",
    "Temp_max = np.exp(2)\n",
    "Temp_min = np.exp(-10)\n",
    "alpha = 0.9\n",
    "iter_num = 100\n",
    "\n",
    "# Getting best configurations\n",
    "positions = np.empty((1, 2))\n",
    "energies = []\n",
    "    \n",
    "for i in range(len(N)):\n",
    "    n = N[i]\n",
    "    print(\"N = \", n)\n",
    "    # Get results\n",
    "    p, E = optimal_configuration(n, R, Temp_max, Temp_min, alpha, iter_num, 100, simulated_annealing)\n",
    "    \n",
    "    # Add to positions\n",
    "    positions = np.concatenate([positions, p])\n",
    "    \n",
    "    # Add to energies\n",
    "    energies.append(E)\n",
    "\n",
    "# Remove first row of positions\n",
    "positions = positions[1:, :]\n",
    "\n",
    "# Save results\n",
    "np.savetxt('res/configurations.txt', positions)\n",
    "np.savetxt('res/energies.txt', energies)"
   ],
   "metadata": {
    "collapsed": false,
    "ExecuteTime": {
     "end_time": "2023-12-21T23:10:20.442559500Z",
     "start_time": "2023-12-21T22:59:33.042549Z"
    }
   },
   "id": "b5059e1597978b0b"
  },
  {
   "cell_type": "markdown",
   "source": [
    "# Vary alpha"
   ],
   "metadata": {
    "collapsed": false
   },
   "id": "f81667b38afd1d0"
  },
  {
   "cell_type": "code",
   "execution_count": 87,
   "outputs": [],
   "source": [
    "N = [5, 7, 9, 11]\n",
    "alphas = [0.2, 0.3, 0.4, 0.5, 0.7, 0.8, 0.9]\n",
    "R = 1\n",
    "Temp_max = np.exp(2)\n",
    "Temp_min = np.exp(-10)\n",
    "iter_num = 100\n",
    "\n",
    "# Storing results\n",
    "results = np.array(alphas).reshape(-1, 1)\n",
    "\n",
    "for n in N:\n",
    "    res = []\n",
    "    for alpha in alphas:\n",
    "        # Store energies\n",
    "        energies = []\n",
    "\n",
    "        # Loop through each simulation\n",
    "        for sim in range(n_simulations):\n",
    "            # Run simulation\n",
    "            p, E = simulated_annealing(n, R, Temp_max, Temp_min, alpha, iter_num)\n",
    "\n",
    "            # Add to list\n",
    "            energies.append(E)\n",
    "\n",
    "        # Calculate mean and std\n",
    "        E_mean = np.mean(energies)\n",
    "        E_std = np.std(energies, ddof=1)\n",
    "\n",
    "        # Calculate confidence interval\n",
    "        E_conf = 1.96 * E_std / np.sqrt(n_simulations)\n",
    "\n",
    "        res.append([E_mean, E_conf])\n",
    "\n",
    "    # Add to results\n",
    "    results = np.hstack([results, np.array(res)])\n",
    "\n",
    "# Save results\n",
    "np.savetxt('res/vary_alphas.txt', results)"
   ],
   "metadata": {
    "collapsed": false,
    "ExecuteTime": {
     "end_time": "2023-12-22T00:12:31.858627Z",
     "start_time": "2023-12-22T00:09:14.866904900Z"
    }
   },
   "id": "568639eb78a5cc8f"
  },
  {
   "cell_type": "markdown",
   "source": [
    "# Vary iterations"
   ],
   "metadata": {
    "collapsed": false
   },
   "id": "e8125429c2bf9773"
  },
  {
   "cell_type": "code",
   "execution_count": 84,
   "outputs": [],
   "source": [
    "# Parameters\n",
    "N = [5, 7, 9, 11]\n",
    "iters = [1, 2, 5, 10, 25, 50, 100]\n",
    "R = 1\n",
    "Temp_max = np.exp(2)\n",
    "Temp_min = np.exp(-10)\n",
    "alpha = 0.9\n",
    "\n",
    "# Storing results\n",
    "results = np.array(iters).reshape(-1, 1)\n",
    "\n",
    "for n in N:\n",
    "    res = []    \n",
    "    for iter_num in iters:\n",
    "        # Store energies\n",
    "        energies = []\n",
    "        \n",
    "        # Loop through each simulation\n",
    "        for sim in range(n_simulations):\n",
    "            # Run simulation\n",
    "            p, E = simulated_annealing(n, R, Temp_max, Temp_min, alpha, iter_num)\n",
    "            \n",
    "            # Add to list\n",
    "            energies.append(E)\n",
    "        \n",
    "        # Calculate mean and std\n",
    "        E_mean = np.mean(energies)\n",
    "        E_std = np.std(energies, ddof=1)\n",
    "        \n",
    "        # Calculate confidence interval\n",
    "        E_conf = 1.96 * E_std / np.sqrt(n_simulations)\n",
    "        \n",
    "        res.append([E_mean, E_conf])\n",
    "    \n",
    "    # Add to results\n",
    "    results = np.hstack([results, np.array(res)])\n",
    "\n",
    "# Save results\n",
    "np.savetxt('res/vary_iterations.txt', results)\n",
    "            "
   ],
   "metadata": {
    "collapsed": false,
    "ExecuteTime": {
     "end_time": "2023-12-21T23:47:10.503978900Z",
     "start_time": "2023-12-21T23:44:14.299486Z"
    }
   },
   "id": "ade1999cc17a154a"
  },
  {
   "cell_type": "markdown",
   "source": [
    "# Finding magic numbers"
   ],
   "metadata": {
    "collapsed": false
   },
   "id": "c013e5ffd4e7c7d1"
  },
  {
   "cell_type": "code",
   "execution_count": null,
   "outputs": [],
   "source": [],
   "metadata": {
    "collapsed": false
   },
   "id": "96d8d4cb9fa9f90d"
  }
 ],
 "metadata": {
  "kernelspec": {
   "display_name": "Python 3",
   "language": "python",
   "name": "python3"
  },
  "language_info": {
   "codemirror_mode": {
    "name": "ipython",
    "version": 2
   },
   "file_extension": ".py",
   "mimetype": "text/x-python",
   "name": "python",
   "nbconvert_exporter": "python",
   "pygments_lexer": "ipython2",
   "version": "2.7.6"
  }
 },
 "nbformat": 4,
 "nbformat_minor": 5
}
